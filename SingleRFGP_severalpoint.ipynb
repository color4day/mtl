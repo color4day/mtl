{
 "cells": [
  {
   "cell_type": "code",
   "execution_count": 1,
   "id": "c1c764c9-b1d3-4418-8b28-ceffbb97846d",
   "metadata": {
    "ExecuteTime": {
     "end_time": "2024-06-27T07:00:26.705268Z",
     "start_time": "2024-06-27T07:00:22.850715Z"
    },
    "tags": []
   },
   "outputs": [
    {
     "name": "stdout",
     "output_type": "stream",
     "text": [
      "c:\\Users\\yuanq\\Desktop\\SB\\SB\\research\\causality\\code\\MTL_DGP\n"
     ]
    }
   ],
   "source": [
    "import os\n",
    "import sys\n",
    "import pyro\n",
    "import pandas as pd\n",
    "import torch\n",
    "import pickle\n",
    "\n",
    "import numpy as np\n",
    "import torch.nn as nn\n",
    "import matplotlib.pyplot as plt\n",
    "import pyro.distributions as dist\n",
    "import torch\n",
    "\n",
    "from torch import Tensor\n",
    "from tqdm.auto import trange\n",
    "from pyro.nn import PyroModule, PyroSample, PyroParam\n",
    "from pyro.infer import MCMC, NUTS, SVI, Trace_ELBO, Predictive\n",
    "from pyro.distributions import constraints\n",
    "from pyro.infer.autoguide import AutoDiagonalNormal\n",
    "\n",
    "print(os.getcwd())\n",
    "datapath = os.getcwd()+\"/folds/synthetic_data2.csv\"\n",
    "# sys.path.append('../..')  # Adjust the path as needed\n",
    "\n",
    "from src import SingleGP, MtlDeepGP, DeepGPNoBias, DeepGP"
   ]
  },
  {
   "cell_type": "code",
   "execution_count": 2,
   "id": "f56a04aab430ee20",
   "metadata": {
    "ExecuteTime": {
     "end_time": "2024-06-27T07:00:26.735121Z",
     "start_time": "2024-06-27T07:00:26.707275Z"
    }
   },
   "outputs": [
    {
     "data": {
      "text/plain": [
       "False"
      ]
     },
     "execution_count": 2,
     "metadata": {},
     "output_type": "execute_result"
    }
   ],
   "source": [
    "torch.cuda.is_available()\n",
    "# trouble shoot see this link:https://stackoverflow.com/questions/77068908/how-to-install-pytorch-with-cpu-support-on-windows-11-cpu-12-no-matching"
   ]
  },
  {
   "cell_type": "code",
   "execution_count": 3,
   "id": "e4ffde22a3c33392",
   "metadata": {
    "ExecuteTime": {
     "end_time": "2024-06-27T07:00:26.742041Z",
     "start_time": "2024-06-27T07:00:26.736127Z"
    }
   },
   "outputs": [],
   "source": [
    "# torch.cpu.current_device()\n",
    "device = torch.device(\"cuda\" if torch.cuda.is_available() else \"cpu\")\n",
    "torch.set_default_device(device)\n",
    "# cpu = torch.device('cpu') dd"
   ]
  },
  {
   "cell_type": "code",
   "execution_count": 4,
   "id": "ea3d2d06",
   "metadata": {},
   "outputs": [
    {
     "data": {
      "text/plain": [
       "<torch._C.Generator at 0x22e42ecdc10>"
      ]
     },
     "execution_count": 4,
     "metadata": {},
     "output_type": "execute_result"
    }
   ],
   "source": [
    "torch.manual_seed(42)"
   ]
  },
  {
   "cell_type": "code",
   "execution_count": 6,
   "id": "bc0a3e0a",
   "metadata": {},
   "outputs": [
    {
     "name": "stdout",
     "output_type": "stream",
     "text": [
      "Train X: (140, 1)\n",
      "Test X: (60, 1)\n",
      "Train Y1: (140,)\n",
      "Test Y1: (60,)\n",
      "Train Y2: (140,)\n",
      "Test Y2: (60,)\n"
     ]
    }
   ],
   "source": [
    "# Load data from CSV\n",
    "data = pd.read_csv(datapath)\n",
    "\n",
    "# Separate the features (X) and outputs (Y1 and Y2)\n",
    "X = data[['X']].values  # input features\n",
    "Y1 = data['Y1'].values  # Task 1 output\n",
    "Y2 = data['Y2'].values  # Task 2 output\n",
    "\n",
    "from sklearn.model_selection import train_test_split\n",
    "\n",
    "# Split into train and test for the inputs and both task outputs\n",
    "X_train, X_test, Y1_train, Y1_test, Y2_train, Y2_test = train_test_split(X, Y1, Y2, test_size=0.3, random_state=42)\n",
    "\n",
    "# Print the shapes of the train and test sets\n",
    "print(\"Train X:\", X_train.shape)\n",
    "print(\"Test X:\", X_test.shape)\n",
    "print(\"Train Y1:\", Y1_train.shape)\n",
    "print(\"Test Y1:\", Y1_test.shape)\n",
    "print(\"Train Y2:\", Y2_train.shape)\n",
    "print(\"Test Y2:\", Y2_test.shape)\n"
   ]
  },
  {
   "cell_type": "code",
   "execution_count": 7,
   "id": "e9ae1df1",
   "metadata": {},
   "outputs": [
    {
     "name": "stdout",
     "output_type": "stream",
     "text": [
      "torch.Size([140, 2])\n",
      "torch.Size([140, 2])\n",
      "torch.Size([60, 2])\n",
      "torch.Size([60, 2])\n"
     ]
    }
   ],
   "source": [
    "x_train = torch.tensor( np.hstack([X_train, X_train]), dtype=torch.float32)\n",
    "y_train = torch.tensor( np.vstack([Y1_train, Y2_train]), dtype=torch.float32).T\n",
    "x_test = torch.tensor( np.hstack([X_test, X_test]) , dtype=torch.float32)\n",
    "y_test = torch.tensor( np.vstack([Y1_test, Y2_test]), dtype=torch.float32).T\n",
    "\n",
    "print(x_train.shape)\n",
    "print(y_train.shape)\n",
    "print(x_test.shape)\n",
    "print(y_test.shape)"
   ]
  },
  {
   "cell_type": "code",
   "execution_count": 8,
   "id": "4d60fd52-887a-4ca5-9b03-8c4777801f8c",
   "metadata": {
    "ExecuteTime": {
     "end_time": "2024-06-27T07:00:45.463233Z",
     "start_time": "2024-06-27T07:00:45.457457Z"
    },
    "tags": []
   },
   "outputs": [],
   "source": [
    "class Model(PyroModule):\n",
    "    def __init__(self, dim_list=[1, 1, 1], J_list=[50, 10]):#in_dim=1, out_dim=1, J=50):\n",
    "        super().__init__()\n",
    "\n",
    "        out_dim = 2\n",
    "        self.out_dim = out_dim\n",
    "        self.model = MtlDeepGP()\n",
    "        self.model.to('cpu')\n",
    "\n",
    "    def forward(self, x, y=None):\n",
    "        mu = self.model(x)#.squeeze() \n",
    "        \n",
    "        scale = pyro.sample(\"sigma\", dist.Gamma(torch.tensor(0.5, device='cpu'), torch.tensor(1.0, device='cpu'))).expand(self.out_dim)  # Infer the response noise\n",
    "\n",
    "        # Sampling model\n",
    "        with pyro.plate(\"data\", x.shape[0]): # x.shape[0]=10000\n",
    "            # obs = xxx(\"obs\", mu, obs=y)\n",
    "            obs = pyro.sample(\"obs\", dist.MultivariateNormal(mu.cpu(), torch.diag(scale * scale).cpu()), obs=y)\n",
    "            \n",
    "#         f1: phi(Omega x)W (+ epsilon1)\n",
    "#         f2: phi(Omega f1)W (+ epsilon2)\n",
    "        \n",
    "#         f2 + epsilon ~ N(0, Sigma)\n",
    "            \n",
    "        return mu"
   ]
  },
  {
   "cell_type": "code",
   "execution_count": 9,
   "id": "fd0fa985",
   "metadata": {},
   "outputs": [],
   "source": [
    "class ModelDGP(PyroModule):\n",
    "    def __init__(self, dim_list=[1,1,1], J_list=[50,10]):\n",
    "        super().__init__()\n",
    "        \n",
    "        self.out_dim = dim_list[-1]\n",
    "        self.model = DeepGP(dim_list, J_list)\n",
    "        self.model.to('cpu')\n",
    "\n",
    "    def forward(self, x, y=None):\n",
    "        mu = self.model(x)#.squeeze() #10000*6\n",
    "        \n",
    "        # batch shape | event shapt\n",
    "        # 10000       |\n",
    "        #scale = torch.FloatTensor([1e-8]*self.out_dim).cuda()\n",
    "        scale = pyro.sample(\"sigma\", dist.Gamma(torch.tensor(0.5), torch.tensor(1.0))).expand(self.out_dim)  # Infer the response noise\n",
    "\n",
    "        # Sampling model\n",
    "        with pyro.plate(\"data\", x.shape[0]): # x.shape[0]=10000\n",
    "            # obs = xxx(\"obs\", mu, obs=y)\n",
    "            obs = pyro.sample(\"obs\", dist.MultivariateNormal(mu, torch.diag(scale * scale)), obs=y)\n",
    "\n",
    "\n",
    "            \n",
    "#         f1: phi(Omega x)W (+ epsilon1)\n",
    "#         f2: phi(Omega f1)W (+ epsilon2)\n",
    "        \n",
    "#         f2 + epsilon ~ N(0, Sigma)\n",
    "            \n",
    "        return mu"
   ]
  },
  {
   "cell_type": "code",
   "execution_count": 10,
   "id": "71f9724a8eb2b703",
   "metadata": {
    "ExecuteTime": {
     "end_time": "2024-06-27T07:18:31.732232Z",
     "start_time": "2024-06-27T07:18:31.724559Z"
    },
    "tags": []
   },
   "outputs": [
    {
     "name": "stdout",
     "output_type": "stream",
     "text": [
      "[SingleGPNoBias(\n",
      "  (layers): PyroModuleList(\n",
      "    (0): FirstLayer(\n",
      "      (layer): PyroLinear(in_features=1, out_features=10, bias=False)\n",
      "    )\n",
      "    (1): SecondLayerNoBias(\n",
      "      (layer): PyroLinear(in_features=20, out_features=1, bias=False)\n",
      "    )\n",
      "  )\n",
      ")]\n",
      "[SingleGPNoBias(\n",
      "  (layers): PyroModuleList(\n",
      "    (0): FirstLayer(\n",
      "      (layer): PyroLinear(in_features=1, out_features=10, bias=False)\n",
      "    )\n",
      "    (1): SecondLayerNoBias(\n",
      "      (layer): PyroLinear(in_features=20, out_features=1, bias=False)\n",
      "    )\n",
      "  )\n",
      ")]\n",
      "[SingleGPNoBias(\n",
      "  (layers): PyroModuleList(\n",
      "    (0): FirstLayer(\n",
      "      (layer): PyroLinear(in_features=1, out_features=10, bias=False)\n",
      "    )\n",
      "    (1): SecondLayerNoBias(\n",
      "      (layer): PyroLinear(in_features=20, out_features=1, bias=False)\n",
      "    )\n",
      "  )\n",
      ")]\n"
     ]
    }
   ],
   "source": [
    "# model = Model(in_dim=x_train.shape[1], out_dim=y_train.shape[1], J=5)\n",
    "# model = ModelDGP()\n",
    "model = Model()\n",
    "model = model.to('cpu')"
   ]
  },
  {
   "cell_type": "code",
   "execution_count": 33,
   "id": "b3ecd508-5a6a-41ba-aac0-a5ffd711229a",
   "metadata": {
    "ExecuteTime": {
     "end_time": "2024-06-27T07:24:51.636660Z",
     "start_time": "2024-06-27T07:18:33.702296Z"
    }
   },
   "outputs": [
    {
     "data": {
      "application/vnd.jupyter.widget-view+json": {
       "model_id": "33836caf03d4499ea66a40e01975f613",
       "version_major": 2,
       "version_minor": 0
      },
      "text/plain": [
       "  0%|          | 0/5000 [00:00<?, ?it/s]"
      ]
     },
     "metadata": {},
     "output_type": "display_data"
    }
   ],
   "source": [
    "\n",
    "mean_field_guide = AutoDiagonalNormal(model)\n",
    "# optimizer = pyro.optim.Adam({\"lr\": 0.01})\n",
    "beta1 = 0.9  # 一阶矩的指数衰减率\n",
    "beta2 = 0.999  # 二阶矩的指数衰减率\n",
    "\n",
    "# 初始化 Adam 优化器，传递 beta 参数\n",
    "optimizer = pyro.optim.Adam({\n",
    "    \"lr\": 0.01,  # 学习率\n",
    "    \"betas\": (beta1, beta2)  # 自定义的 beta 参数\n",
    "})\n",
    "\n",
    "svi = SVI(model, mean_field_guide, optimizer, loss=Trace_ELBO())\n",
    "pyro.clear_param_store()\n",
    "\n",
    "num_epochs = 5000\n",
    "progress_bar = trange(num_epochs)\n",
    "\n",
    "for epoch in progress_bar:\n",
    "    loss = svi.step(x_train, y_train)\n",
    "    progress_bar.set_postfix(loss=f\"{loss / x_train.shape[0]:.3f}\")"
   ]
  },
  {
   "cell_type": "code",
   "execution_count": 34,
   "id": "216a282d",
   "metadata": {},
   "outputs": [],
   "source": [
    "# trace = pyro.poutine.trace(model).get_trace(data)\n",
    "# print(trace.format_shapes())"
   ]
  },
  {
   "cell_type": "code",
   "execution_count": 35,
   "id": "b162f80e752f771f",
   "metadata": {
    "ExecuteTime": {
     "end_time": "2024-06-27T07:24:51.642817Z",
     "start_time": "2024-06-27T07:24:51.637666Z"
    }
   },
   "outputs": [
    {
     "data": {
      "text/plain": [
       "<generator object Module.parameters at 0x0000022E520BCE40>"
      ]
     },
     "execution_count": 35,
     "metadata": {},
     "output_type": "execute_result"
    }
   ],
   "source": [
    "model.parameters()"
   ]
  },
  {
   "cell_type": "code",
   "execution_count": 36,
   "id": "b8f9a0fc-eaba-49d6-b2b7-25d2900d464f",
   "metadata": {
    "ExecuteTime": {
     "end_time": "2024-06-27T07:24:54.069887Z",
     "start_time": "2024-06-27T07:24:51.643822Z"
    },
    "tags": []
   },
   "outputs": [],
   "source": [
    "predictive = Predictive(model, guide=mean_field_guide, num_samples=500)\n",
    "preds = predictive(x_test)"
   ]
  },
  {
   "cell_type": "code",
   "execution_count": 37,
   "id": "3f9017b0-0419-4084-8a67-9e0a8d05a425",
   "metadata": {
    "ExecuteTime": {
     "end_time": "2024-06-27T07:24:54.074944Z",
     "start_time": "2024-06-27T07:24:54.070892Z"
    },
    "tags": []
   },
   "outputs": [],
   "source": [
    "y_pred = preds['obs'].cpu().detach().numpy().mean(axis=0)"
   ]
  },
  {
   "cell_type": "code",
   "execution_count": 38,
   "id": "74966241-fe23-4a9e-b720-3a2530374deb",
   "metadata": {
    "ExecuteTime": {
     "end_time": "2024-06-27T07:24:54.737035Z",
     "start_time": "2024-06-27T07:24:54.076948Z"
    },
    "collapsed": true,
    "jupyter": {
     "outputs_hidden": true
    },
    "tags": []
   },
   "outputs": [
    {
     "data": {
      "image/png": "[encoded data removed]",
      "text/plain": [
       "<Figure size 640x480 with 1 Axes>"
      ]
     },
     "metadata": {},
     "output_type": "display_data"
    }
   ],
   "source": [
    "for d in range(2):\n",
    "    plt.scatter(x_train[:,0].cpu(), y_train.cpu()[:,d], label=f\"Obs_{d}\", marker='+')\n",
    "    plt.scatter(x_test[:,0].cpu(), y_pred[:,d], label=\"Prediction\", marker='o')\n",
    "plt.xlabel('X')\n",
    "plt.ylabel('Y')\n",
    "plt.legend()\n",
    "plt.show()"
   ]
  },
  {
   "cell_type": "code",
   "execution_count": 39,
   "id": "ea8775de",
   "metadata": {},
   "outputs": [
    {
     "name": "stdout",
     "output_type": "stream",
     "text": [
      "Model(\n",
      "  (model): MtlDeepGP(\n",
      "    (GPcommon): DeepGPNoBias(\n",
      "      (layers): PyroModuleList(\n",
      "        (0): SingleGPNoBias(\n",
      "          (layers): PyroModuleList(\n",
      "            (0): FirstLayer(\n",
      "              (layer): PyroLinear(in_features=1, out_features=10, bias=False)\n",
      "            )\n",
      "            (1): SecondLayerNoBias(\n",
      "              (layer): PyroLinear(in_features=20, out_features=1, bias=False)\n",
      "            )\n",
      "          )\n",
      "        )\n",
      "      )\n",
      "    )\n",
      "    (GP1): DeepGPNoBias(\n",
      "      (layers): PyroModuleList(\n",
      "        (0): SingleGPNoBias(\n",
      "          (layers): PyroModuleList(\n",
      "            (0): FirstLayer(\n",
      "              (layer): PyroLinear(in_features=1, out_features=10, bias=False)\n",
      "            )\n",
      "            (1): SecondLayerNoBias(\n",
      "              (layer): PyroLinear(in_features=20, out_features=1, bias=False)\n",
      "            )\n",
      "          )\n",
      "        )\n",
      "      )\n",
      "    )\n",
      "    (GP2): DeepGPNoBias(\n",
      "      (layers): PyroModuleList(\n",
      "        (0): SingleGPNoBias(\n",
      "          (layers): PyroModuleList(\n",
      "            (0): FirstLayer(\n",
      "              (layer): PyroLinear(in_features=1, out_features=10, bias=False)\n",
      "            )\n",
      "            (1): SecondLayerNoBias(\n",
      "              (layer): PyroLinear(in_features=20, out_features=1, bias=False)\n",
      "            )\n",
      "          )\n",
      "        )\n",
      "      )\n",
      "    )\n",
      "  )\n",
      ")\n"
     ]
    }
   ],
   "source": [
    "\n",
    "print(model)"
   ]
  },
  {
   "cell_type": "code",
   "execution_count": 40,
   "id": "8f1525ef",
   "metadata": {},
   "outputs": [
    {
     "name": "stdout",
     "output_type": "stream",
     "text": [
      "torch.Size([140, 1])\n"
     ]
    }
   ],
   "source": [
    "result = model(x_train)\n",
    "z = model.model.z\n",
    "print(z.shape)"
   ]
  },
  {
   "cell_type": "code",
   "execution_count": 41,
   "id": "cf901350",
   "metadata": {},
   "outputs": [
    {
     "data": {
      "image/png": "[encoded data removed]",
      "text/plain": [
       "<Figure size 640x480 with 1 Axes>"
      ]
     },
     "metadata": {},
     "output_type": "display_data"
    }
   ],
   "source": [
    "\n",
    "for d in range(2):\n",
    "    plt.scatter(x_train[:,0].cpu(), y_train.cpu()[:,d], label=f\"Obs_{d}\", marker='+')\n",
    "    # plt.scatter(x_train[:,0].cpu(), y_pred[:,d], label=\"Prediction\", marker='o')\n",
    "plt.scatter(x_train[:,0].cpu(), z[:,0].cpu(), label=f\"z\", marker='o')\n",
    "plt.xlabel('X')\n",
    "plt.ylabel('Y')\n",
    "plt.legend()\n",
    "plt.show()"
   ]
  },
  {
   "cell_type": "code",
   "execution_count": null,
   "id": "36ac4e59",
   "metadata": {},
   "outputs": [],
   "source": []
  },
  {
   "cell_type": "code",
   "execution_count": null,
   "id": "fbf0cc49",
   "metadata": {},
   "outputs": [],
   "source": []
  },
  {
   "cell_type": "code",
   "execution_count": null,
   "id": "a3ff743b",
   "metadata": {},
   "outputs": [],
   "source": []
  }
 ],
 "metadata": {
  "kernelspec": {
   "display_name": "base",
   "language": "python",
   "name": "python3"
  },
  "language_info": {
   "codemirror_mode": {
    "name": "ipython",
    "version": 3
   },
   "file_extension": ".py",
   "mimetype": "text/x-python",
   "name": "python",
   "nbconvert_exporter": "python",
   "pygments_lexer": "ipython3",
   "version": "3.12.4"
  }
 },
 "nbformat": 4,
 "nbformat_minor": 5
}
