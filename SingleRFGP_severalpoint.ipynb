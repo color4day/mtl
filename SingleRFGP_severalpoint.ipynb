{
 "cells": [
  {
   "cell_type": "code",
   "id": "c1c764c9-b1d3-4418-8b28-ceffbb97846d",
   "metadata": {
    "tags": [],
    "ExecuteTime": {
     "end_time": "2024-11-07T17:53:10.459753Z",
     "start_time": "2024-11-07T17:53:10.453994Z"
    }
   },
   "source": [
    "import os\n",
    "import sys\n",
    "import pyro\n",
    "import pandas as pd\n",
    "import torch\n",
    "import pickle\n",
    "\n",
    "import numpy as np\n",
    "import torch.nn as nn\n",
    "import matplotlib.pyplot as plt\n",
    "import pyro.distributions as dist\n",
    "import torch\n",
    "\n",
    "from torch import Tensor\n",
    "from tqdm.auto import trange\n",
    "from pyro.nn import PyroModule, PyroSample, PyroParam\n",
    "from pyro.infer import MCMC, NUTS, SVI, Trace_ELBO, Predictive\n",
    "from pyro.distributions import constraints\n",
    "from pyro.infer.autoguide import AutoDiagonalNormal\n",
    "\n",
    "print(os.getcwd())\n",
    "datapath = os.getcwd()+\"/folds/synthetic_data2.csv\"\n",
    "# sys.path.append('../..')  # Adjust the path as needed\n",
    "\n",
    "from src import SingleGP, MtlDeepGP, DeepGPNoBias, DeepGP"
   ],
   "outputs": [
    {
     "name": "stdout",
     "output_type": "stream",
     "text": [
      "C:\\Users\\yuanq\\OneDrive\\Desktopold\\SB\\research\\confounder\\code\\mtl\\mtl\n"
     ]
    }
   ],
   "execution_count": 11
  },
  {
   "cell_type": "code",
   "id": "f56a04aab430ee20",
   "metadata": {
    "ExecuteTime": {
     "end_time": "2024-11-07T17:53:10.500372Z",
     "start_time": "2024-11-07T17:53:10.495027Z"
    }
   },
   "source": [
    "torch.cuda.is_available()\n",
    "# trouble shoot see this link:https://stackoverflow.com/questions/77068908/how-to-install-pytorch-with-cpu-support-on-windows-11-cpu-12-no-matching"
   ],
   "outputs": [
    {
     "data": {
      "text/plain": [
       "True"
      ]
     },
     "execution_count": 12,
     "metadata": {},
     "output_type": "execute_result"
    }
   ],
   "execution_count": 12
  },
  {
   "cell_type": "code",
   "id": "e4ffde22a3c33392",
   "metadata": {
    "ExecuteTime": {
     "end_time": "2024-11-07T17:53:10.552348Z",
     "start_time": "2024-11-07T17:53:10.548509Z"
    }
   },
   "source": [
    "# torch.cpu.current_device()\n",
    "device = torch.device(\"cpu\")\n",
    "torch.set_default_device(device)\n",
    "# cpu = torch.device('cpu') dd"
   ],
   "outputs": [],
   "execution_count": 13
  },
  {
   "cell_type": "code",
   "id": "ea3d2d06",
   "metadata": {
    "ExecuteTime": {
     "end_time": "2024-11-07T17:53:10.577344Z",
     "start_time": "2024-11-07T17:53:10.566941Z"
    }
   },
   "source": [
    "torch.manual_seed(42)"
   ],
   "outputs": [
    {
     "data": {
      "text/plain": [
       "<torch._C.Generator at 0x1ed9e4a7d50>"
      ]
     },
     "execution_count": 14,
     "metadata": {},
     "output_type": "execute_result"
    }
   ],
   "execution_count": 14
  },
  {
   "cell_type": "code",
   "id": "bc0a3e0a",
   "metadata": {
    "ExecuteTime": {
     "end_time": "2024-11-07T17:53:10.599375Z",
     "start_time": "2024-11-07T17:53:10.590895Z"
    }
   },
   "source": [
    "# Load data from CSV\n",
    "data = pd.read_csv(datapath)\n",
    "\n",
    "# Separate the features (X) and outputs (Y1 and Y2)\n",
    "X = data[['X']].values  # input features\n",
    "Y1 = data['Y1'].values  # Task 1 output\n",
    "Y2 = data['Y2'].values  # Task 2 output\n",
    "\n",
    "from sklearn.model_selection import train_test_split\n",
    "\n",
    "# Split into train and test for the inputs and both task outputs\n",
    "X_train, X_test, Y1_train, Y1_test, Y2_train, Y2_test = train_test_split(X, Y1, Y2, test_size=0.3, random_state=42)\n",
    "\n",
    "# Print the shapes of the train and test sets\n",
    "print(\"Train X:\", X_train.shape)\n",
    "print(\"Test X:\", X_test.shape)\n",
    "print(\"Train Y1:\", Y1_train.shape)\n",
    "print(\"Test Y1:\", Y1_test.shape)\n",
    "print(\"Train Y2:\", Y2_train.shape)\n",
    "print(\"Test Y2:\", Y2_test.shape)\n"
   ],
   "outputs": [
    {
     "name": "stdout",
     "output_type": "stream",
     "text": [
      "Train X: (140, 1)\n",
      "Test X: (60, 1)\n",
      "Train Y1: (140,)\n",
      "Test Y1: (60,)\n",
      "Train Y2: (140,)\n",
      "Test Y2: (60,)\n"
     ]
    }
   ],
   "execution_count": 15
  },
  {
   "cell_type": "code",
   "id": "e9ae1df1",
   "metadata": {
    "ExecuteTime": {
     "end_time": "2024-11-07T17:53:10.627626Z",
     "start_time": "2024-11-07T17:53:10.621414Z"
    }
   },
   "source": [
    "x_train = torch.tensor( np.hstack([X_train, X_train]), dtype=torch.float32)\n",
    "y_train = torch.tensor( np.vstack([Y1_train, Y2_train]), dtype=torch.float32).T\n",
    "x_test = torch.tensor( np.hstack([X_test, X_test]) , dtype=torch.float32)\n",
    "y_test = torch.tensor( np.vstack([Y1_test, Y2_test]), dtype=torch.float32).T\n",
    "\n",
    "print(x_train.shape)\n",
    "print(y_train.shape)\n",
    "print(x_test.shape)\n",
    "print(y_test.shape)"
   ],
   "outputs": [
    {
     "name": "stdout",
     "output_type": "stream",
     "text": [
      "torch.Size([140, 2])\n",
      "torch.Size([140, 2])\n",
      "torch.Size([60, 2])\n",
      "torch.Size([60, 2])\n"
     ]
    }
   ],
   "execution_count": 16
  },
  {
   "cell_type": "code",
   "id": "4d60fd52-887a-4ca5-9b03-8c4777801f8c",
   "metadata": {
    "tags": [],
    "ExecuteTime": {
     "end_time": "2024-11-07T17:53:10.650222Z",
     "start_time": "2024-11-07T17:53:10.643204Z"
    }
   },
   "source": [
    "class Model(PyroModule):\n",
    "    def __init__(self, dim_list=[1, 1, 1], J_list=[50, 10]):#in_dim=1, out_dim=1, J=50):\n",
    "        super().__init__()\n",
    "\n",
    "        out_dim = 2\n",
    "        self.out_dim = out_dim\n",
    "        self.model = MtlDeepGP()\n",
    "        self.model.to('cpu')\n",
    "\n",
    "    def forward(self, x, y=None):\n",
    "        mu = self.model(x)#.squeeze() \n",
    "        \n",
    "        scale = pyro.sample(\"sigma\", dist.Gamma(torch.tensor(0.5, device='cpu'), torch.tensor(1.0, device='cpu'))).expand(self.out_dim)  # Infer the response noise\n",
    "\n",
    "        # Sampling model\n",
    "        with pyro.plate(\"data\", x.shape[0]): # x.shape[0]=10000\n",
    "            # obs = xxx(\"obs\", mu, obs=y)\n",
    "            obs = pyro.sample(\"obs\", dist.MultivariateNormal(mu.cpu(), torch.diag(scale * scale).cpu()), obs=y)\n",
    "            \n",
    "#         f1: phi(Omega x)W (+ epsilon1)\n",
    "#         f2: phi(Omega f1)W (+ epsilon2)\n",
    "        \n",
    "#         f2 + epsilon ~ N(0, Sigma)\n",
    "            \n",
    "        return mu\n",
    "    \n",
    "    def pred(self, x):\n",
    "        mu = self.model(x)\n",
    "        dmu = self.model.pred(x)\n",
    "        return dmu"
   ],
   "outputs": [],
   "execution_count": 17
  },
  {
   "cell_type": "code",
   "id": "fd0fa985",
   "metadata": {
    "ExecuteTime": {
     "end_time": "2024-11-07T17:53:10.678616Z",
     "start_time": "2024-11-07T17:53:10.674719Z"
    }
   },
   "source": [
    "# class ModelDGP(PyroModule):\n",
    "#     def __init__(self, dim_list=[1,1,1], J_list=[50,10]):\n",
    "#         super().__init__()\n",
    "        \n",
    "#         self.out_dim = dim_list[-1]\n",
    "#         self.model = DeepGP(dim_list, J_list)\n",
    "#         self.model.to('cpu')\n",
    "\n",
    "#     def forward(self, x, y=None):\n",
    "#         mu = self.model(x)#.squeeze() #10000*6\n",
    "        \n",
    "#         # batch shape | event shapt\n",
    "#         # 10000       |\n",
    "#         #scale = torch.FloatTensor([1e-8]*self.out_dim).cuda()\n",
    "#         scale = pyro.sample(\"sigma\", dist.Gamma(torch.tensor(0.5), torch.tensor(1.0))).expand(self.out_dim)  # Infer the response noise\n",
    "\n",
    "#         # Sampling model\n",
    "#         with pyro.plate(\"data\", x.shape[0]): # x.shape[0]=10000\n",
    "#             # obs = xxx(\"obs\", mu, obs=y)\n",
    "#             obs = pyro.sample(\"obs\", dist.MultivariateNormal(mu, torch.diag(scale * scale)), obs=y)\n",
    "\n",
    "\n",
    "            \n",
    "# #         f1: phi(Omega x)W (+ epsilon1)\n",
    "# #         f2: phi(Omega f1)W (+ epsilon2)\n",
    "        \n",
    "# #         f2 + epsilon ~ N(0, Sigma)\n",
    "            \n",
    "#         return mu"
   ],
   "outputs": [],
   "execution_count": 18
  },
  {
   "cell_type": "code",
   "id": "71f9724a8eb2b703",
   "metadata": {
    "tags": [],
    "ExecuteTime": {
     "end_time": "2024-11-07T17:53:10.723449Z",
     "start_time": "2024-11-07T17:53:10.712665Z"
    }
   },
   "source": [
    "# model = Model(in_dim=x_train.shape[1], out_dim=y_train.shape[1], J=5)\n",
    "# model = ModelDGP()\n",
    "model = Model()\n",
    "model = model.to('cpu')"
   ],
   "outputs": [
    {
     "name": "stdout",
     "output_type": "stream",
     "text": [
      "[SingleGPNoBias(\n",
      "  (layers): PyroModuleList(\n",
      "    (0): FirstLayer(\n",
      "      (layer): PyroLinear(in_features=1, out_features=10, bias=False)\n",
      "    )\n",
      "    (1): SecondLayerNoBias(\n",
      "      (layer): PyroLinear(in_features=20, out_features=1, bias=False)\n",
      "    )\n",
      "  )\n",
      ")]\n",
      "[SingleGPNoBias(\n",
      "  (layers): PyroModuleList(\n",
      "    (0): FirstLayer(\n",
      "      (layer): PyroLinear(in_features=1, out_features=10, bias=False)\n",
      "    )\n",
      "    (1): SecondLayerNoBias(\n",
      "      (layer): PyroLinear(in_features=20, out_features=1, bias=False)\n",
      "    )\n",
      "  )\n",
      ")]\n",
      "[SingleGPNoBias(\n",
      "  (layers): PyroModuleList(\n",
      "    (0): FirstLayer(\n",
      "      (layer): PyroLinear(in_features=1, out_features=10, bias=False)\n",
      "    )\n",
      "    (1): SecondLayerNoBias(\n",
      "      (layer): PyroLinear(in_features=20, out_features=1, bias=False)\n",
      "    )\n",
      "  )\n",
      ")]\n"
     ]
    }
   ],
   "execution_count": 19
  },
  {
   "cell_type": "code",
   "id": "b3ecd508-5a6a-41ba-aac0-a5ffd711229a",
   "metadata": {
    "ExecuteTime": {
     "end_time": "2024-11-07T17:53:35.623208Z",
     "start_time": "2024-11-07T17:53:10.738485Z"
    }
   },
   "source": [
    "mean_field_guide = AutoDiagonalNormal(model)\n",
    "# optimizer = pyro.optim.Adam({\"lr\": 0.01})\n",
    "beta1 = 0.9  # 一阶矩的指数衰减率\n",
    "beta2 = 0.999  # 二阶矩的指数衰减率\n",
    "\n",
    "# 初始化 Adam 优化器，传递 beta 参数\n",
    "optimizer = pyro.optim.Adam({\n",
    "    \"lr\": 0.01,  # 学习率\n",
    "    \"betas\": (beta1, beta2)  # 自定义的 beta 参数\n",
    "})\n",
    "\n",
    "svi = SVI(model, mean_field_guide, optimizer, loss=Trace_ELBO())\n",
    "pyro.clear_param_store()\n",
    "\n",
    "num_epochs = 1500\n",
    "progress_bar = trange(num_epochs)\n",
    "\n",
    "for epoch in progress_bar:\n",
    "    loss = svi.step(x_train, y_train)\n",
    "    progress_bar.set_postfix(loss=f\"{loss / x_train.shape[0]:.3f}\")"
   ],
   "outputs": [
    {
     "data": {
      "text/plain": [
       "  0%|          | 0/1500 [00:00<?, ?it/s]"
      ],
      "application/vnd.jupyter.widget-view+json": {
       "version_major": 2,
       "version_minor": 0,
       "model_id": "f04f703f5d2849c29cd1885281bae67b"
      }
     },
     "metadata": {},
     "output_type": "display_data"
    }
   ],
   "execution_count": 20
  },
  {
   "cell_type": "code",
   "id": "216a282d",
   "metadata": {
    "ExecuteTime": {
     "end_time": "2024-11-07T17:53:35.627742Z",
     "start_time": "2024-11-07T17:53:35.624719Z"
    }
   },
   "source": [
    "# trace = pyro.poutine.trace(model).get_trace(data)\n",
    "# print(trace.format_shapes())"
   ],
   "outputs": [],
   "execution_count": 21
  },
  {
   "cell_type": "code",
   "id": "b162f80e752f771f",
   "metadata": {
    "ExecuteTime": {
     "end_time": "2024-11-07T17:53:35.634767Z",
     "start_time": "2024-11-07T17:53:35.628748Z"
    }
   },
   "source": [
    "model.parameters()"
   ],
   "outputs": [
    {
     "data": {
      "text/plain": [
       "<generator object Module.parameters at 0x000001ED98CD5000>"
      ]
     },
     "execution_count": 22,
     "metadata": {},
     "output_type": "execute_result"
    }
   ],
   "execution_count": 22
  },
  {
   "cell_type": "code",
   "id": "b8f9a0fc-eaba-49d6-b2b7-25d2900d464f",
   "metadata": {
    "tags": [],
    "ExecuteTime": {
     "end_time": "2024-11-07T17:53:37.513586Z",
     "start_time": "2024-11-07T17:53:35.636781Z"
    }
   },
   "source": [
    "predictive = Predictive(model, guide=mean_field_guide, num_samples=500)\n",
    "preds = predictive(x_test)"
   ],
   "outputs": [],
   "execution_count": 23
  },
  {
   "cell_type": "code",
   "id": "3f9017b0-0419-4084-8a67-9e0a8d05a425",
   "metadata": {
    "tags": [],
    "ExecuteTime": {
     "end_time": "2024-11-07T17:53:37.519149Z",
     "start_time": "2024-11-07T17:53:37.514591Z"
    }
   },
   "source": [
    "y_pred = preds['obs'].cpu().detach().numpy().mean(axis=0)"
   ],
   "outputs": [],
   "execution_count": 24
  },
  {
   "cell_type": "code",
   "id": "74966241-fe23-4a9e-b720-3a2530374deb",
   "metadata": {
    "collapsed": true,
    "jupyter": {
     "outputs_hidden": true
    },
    "tags": [],
    "ExecuteTime": {
     "end_time": "2024-11-07T17:53:37.766593Z",
     "start_time": "2024-11-07T17:53:37.520155Z"
    }
   },
   "source": [
    "for d in range(2):\n",
    "    plt.scatter(x_train[:,0].cpu(), y_train.cpu()[:,d], label=f\"Obs_{d}\", marker='+')\n",
    "    plt.scatter(x_test[:,0].cpu(), y_pred[:,d], label=\"Prediction\", marker='o')\n",
    "plt.xlabel('X')\n",
    "plt.ylabel('Y')\n",
    "plt.legend()\n",
    "plt.show()"
   ],
   "outputs": [
    {
     "data": {
      "text/plain": [
       "<Figure size 640x480 with 1 Axes>"
      ],
      "image/png": "[encoded data removed]"
     },
     "metadata": {},
     "output_type": "display_data"
    }
   ],
   "execution_count": 25
  },
  {
   "cell_type": "code",
   "id": "ea8775de",
   "metadata": {
    "ExecuteTime": {
     "end_time": "2024-11-07T17:53:37.771197Z",
     "start_time": "2024-11-07T17:53:37.767597Z"
    }
   },
   "source": [
    "print(model)"
   ],
   "outputs": [
    {
     "name": "stdout",
     "output_type": "stream",
     "text": [
      "Model(\n",
      "  (model): MtlDeepGP(\n",
      "    (GPcommon): DeepGPNoBias(\n",
      "      (layers): PyroModuleList(\n",
      "        (0): SingleGPNoBias(\n",
      "          (layers): PyroModuleList(\n",
      "            (0): FirstLayer(\n",
      "              (layer): PyroLinear(in_features=1, out_features=10, bias=False)\n",
      "            )\n",
      "            (1): SecondLayerNoBias(\n",
      "              (layer): PyroLinear(in_features=20, out_features=1, bias=False)\n",
      "            )\n",
      "          )\n",
      "        )\n",
      "      )\n",
      "    )\n",
      "    (GP1): DeepGPNoBias(\n",
      "      (layers): PyroModuleList(\n",
      "        (0): SingleGPNoBias(\n",
      "          (layers): PyroModuleList(\n",
      "            (0): FirstLayer(\n",
      "              (layer): PyroLinear(in_features=1, out_features=10, bias=False)\n",
      "            )\n",
      "            (1): SecondLayerNoBias(\n",
      "              (layer): PyroLinear(in_features=20, out_features=1, bias=False)\n",
      "            )\n",
      "          )\n",
      "        )\n",
      "      )\n",
      "    )\n",
      "    (GP2): DeepGPNoBias(\n",
      "      (layers): PyroModuleList(\n",
      "        (0): SingleGPNoBias(\n",
      "          (layers): PyroModuleList(\n",
      "            (0): FirstLayer(\n",
      "              (layer): PyroLinear(in_features=1, out_features=10, bias=False)\n",
      "            )\n",
      "            (1): SecondLayerNoBias(\n",
      "              (layer): PyroLinear(in_features=20, out_features=1, bias=False)\n",
      "            )\n",
      "          )\n",
      "        )\n",
      "      )\n",
      "    )\n",
      "  )\n",
      ")\n"
     ]
    }
   ],
   "execution_count": 26
  },
  {
   "cell_type": "code",
   "id": "8f1525ef",
   "metadata": {
    "ExecuteTime": {
     "end_time": "2024-11-07T17:53:37.779845Z",
     "start_time": "2024-11-07T17:53:37.772202Z"
    }
   },
   "source": [
    "result = model(x_train)\n",
    "z = model.model.z\n",
    "print(z.shape)"
   ],
   "outputs": [
    {
     "name": "stdout",
     "output_type": "stream",
     "text": [
      "torch.Size([140, 1])\n"
     ]
    }
   ],
   "execution_count": 27
  },
  {
   "cell_type": "code",
   "id": "cf901350",
   "metadata": {
    "ExecuteTime": {
     "end_time": "2024-11-07T17:53:37.931380Z",
     "start_time": "2024-11-07T17:53:37.779845Z"
    }
   },
   "source": [
    "for d in range(2):\n",
    "    plt.scatter(x_train[:,0].cpu(), y_train.cpu()[:,d], label=f\"Obs_{d}\", marker='+')\n",
    "    # plt.scatter(x_train[:,0].cpu(), y_pred[:,d], label=\"Prediction\", marker='o')\n",
    "plt.scatter(x_train[:,0].cpu(), z[:,0].cpu(), label=f\"z\", marker='o')\n",
    "plt.xlabel('X')\n",
    "plt.ylabel('Y')\n",
    "plt.legend()\n",
    "plt.show()"
   ],
   "outputs": [
    {
     "data": {
      "text/plain": [
       "<Figure size 640x480 with 1 Axes>"
      ],
      "image/png": "[encoded data removed]"
     },
     "metadata": {},
     "output_type": "display_data"
    }
   ],
   "execution_count": 28
  },
  {
   "cell_type": "code",
   "id": "36ac4e59",
   "metadata": {
    "ExecuteTime": {
     "end_time": "2024-11-07T17:53:39.149621Z",
     "start_time": "2024-11-07T17:53:37.933385Z"
    }
   },
   "source": [
    "dce_train = []\n",
    "for i in range(x_train.shape[0]):\n",
    "    dce_train.append( model.pred(x_train[i,:].unsqueeze(0)) )"
   ],
   "outputs": [],
   "execution_count": 29
  },
  {
   "cell_type": "code",
   "id": "fbf0cc49",
   "metadata": {
    "ExecuteTime": {
     "end_time": "2024-11-07T17:53:39.155640Z",
     "start_time": "2024-11-07T17:53:39.150625Z"
    }
   },
   "source": [
    "dy1dx1_train = []\n",
    "dy2dx1_train = []\n",
    "dy1dx2_train = []\n",
    "dy2dx2_train = []\n",
    "for i in range(x_train.shape[0]):\n",
    "    dy1dx1_train.append( dce_train[i][0][0].item() )\n",
    "    dy2dx1_train.append( dce_train[i][0][1].item() )\n",
    "    dy1dx2_train.append( dce_train[i][1][0].item() )\n",
    "    dy2dx2_train.append( dce_train[i][1][1].item() )"
   ],
   "outputs": [],
   "execution_count": 30
  },
  {
   "cell_type": "code",
   "id": "330db533",
   "metadata": {
    "ExecuteTime": {
     "end_time": "2024-11-07T17:53:39.289515Z",
     "start_time": "2024-11-07T17:53:39.156647Z"
    }
   },
   "source": [
    "fig, ax = plt.subplots()\n",
    "ax.scatter(x_train[:,0].cpu(), dy1dx1_train, label='dy1/dx1')\n",
    "ax.scatter(x_train[:,0].cpu(), dy2dx1_train, label='dy2/dx1')\n",
    "# ax.scatter(x_train[:,0].cpu(), dy1dx2_train, label='dy1/dx2')\n",
    "# ax.scatter(x_train[:,0].cpu(), dy2dx2_train, label='dy2/dx2')\n",
    "ax.legend()\n",
    "ax.set_xlabel('x')\n",
    "ax.set_ylabel('DCE')\n",
    "plt.show()"
   ],
   "outputs": [
    {
     "data": {
      "text/plain": [
       "<Figure size 640x480 with 1 Axes>"
      ],
      "image/png": "[encoded data removed]"
     },
     "metadata": {},
     "output_type": "display_data"
    }
   ],
   "execution_count": 31
  },
  {
   "cell_type": "code",
   "id": "cd23879e",
   "metadata": {
    "ExecuteTime": {
     "end_time": "2024-11-07T17:53:39.292564Z",
     "start_time": "2024-11-07T17:53:39.290520Z"
    }
   },
   "source": [],
   "outputs": [],
   "execution_count": 31
  }
 ],
 "metadata": {
  "kernelspec": {
   "display_name": "Python 3 (ipykernel)",
   "language": "python",
   "name": "python3"
  },
  "language_info": {
   "codemirror_mode": {
    "name": "ipython",
    "version": 3
   },
   "file_extension": ".py",
   "mimetype": "text/x-python",
   "name": "python",
   "nbconvert_exporter": "python",
   "pygments_lexer": "ipython3",
   "version": "3.12.7"
  }
 },
 "nbformat": 4,
 "nbformat_minor": 5
}
